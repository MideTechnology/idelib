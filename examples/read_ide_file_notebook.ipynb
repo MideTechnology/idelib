{
 "cells": [
  {
   "cell_type": "markdown",
   "metadata": {
    "collapsed": true,
    "pycharm": {
     "name": "#%% md\n"
    }
   },
   "source": [
    "---\n",
    "# Example IDE parsing\n",
    "---\n",
    "\n",
    "© 2020 Mide Technology Corp.\n",
    "\n",
    "<br/>\n",
    "\n",
    "### This example will demonstrate how to:\n",
    "   - load an IDE file\n",
    "   - examine the available channels in the file\n",
    "   - find metadata about the file and channels in the file\n",
    "   - extract and plot data from the file\n",
    "\n",
    "<br/><br/>\n",
    "\n",
    "### Requirements\n",
    "\n",
    "- Python 3.5+\n",
    "- numpy 1.16.6+\n",
    "- matplotlib\n",
    "\n",
    "<br/><br/>\n",
    "\n",
    "Requirements can be installed with:\n",
    "\n",
    "```$ pip install .[example]```"
   ]
  },
  {
   "cell_type": "code",
   "execution_count": 1,
   "metadata": {
    "pycharm": {
     "name": "#%%\n"
    }
   },
   "outputs": [],
   "source": [
    "import matplotlib.pyplot as plt\n",
    "import numpy as np\n",
    "\n",
    "%matplotlib inline\n",
    "\n",
    "import idelib\n",
    "\n",
    "__author__ = 'Connor Flanigan'\n",
    "__copyright__ = 'Copyright 2020, Mide Technology Corp'\n",
    "__credits__ = ['Connor Flanigan']"
   ]
  },
  {
   "cell_type": "markdown",
   "metadata": {},
   "source": [
    "Loading an ide file is very simple, the supporting files are defined by\n",
    "default in idelib.  This function returns a Document object which contains\n",
    "the data for the given file.\n",
    "\n"
   ]
  },
  {
   "cell_type": "code",
   "execution_count": 2,
   "metadata": {
    "pycharm": {
     "name": "#%%\n"
    }
   },
   "outputs": [
    {
     "name": "stdout",
     "output_type": "stream",
     "text": [
      "SimpleChannelDataBlock\n",
      "ChannelDataBlock\n",
      "ChannelDataArrayBlock\n",
      "CalibrationList\n",
      "RecordingProperties\n",
      "TimeBaseUTC\n",
      "RecorderConfiguration\n",
      "Attribute\n",
      "CalibrationList\n",
      "RecordingProperties\n",
      "RecorderConfiguration\n",
      "ChannelDataBlock\n"
     ]
    }
   ],
   "source": [
    "doc = idelib.importFile('../test.ide')"
   ]
  },
  {
   "cell_type": "markdown",
   "metadata": {},
   "source": [
    "The channels in a document are contained in an easily accessed dictionary"
   ]
  },
  {
   "cell_type": "code",
   "execution_count": 3,
   "metadata": {
    "pycharm": {
     "name": "#%%\n"
    }
   },
   "outputs": [
    {
     "name": "stdout",
     "output_type": "stream",
     "text": [
      "file: test\n",
      "    Channel: <Channel 8: 'Main Acceleration' at 0x2131e2e4408>\n",
      "        SubChannel: <SubChannel 8.0: 'Main Acceleration:X' at 0x2133fdb5e48>\n",
      "            Data Type: Acceleration, units: g\n",
      "        SubChannel: <SubChannel 8.1: 'Main Acceleration:Y' at 0x2133fc36dc8>\n",
      "            Data Type: Acceleration, units: g\n",
      "        SubChannel: <SubChannel 8.2: 'Main Acceleration:Z' at 0x213405f4c88>\n",
      "            Data Type: Acceleration, units: g\n",
      "    Channel: <Channel 36: 'Pressure/Temperature' at 0x213405edb08>\n",
      "        SubChannel: <SubChannel 36.0: 'Pressure/Temperature:Pressure/Temperature:00' at 0x213405edb88>\n",
      "            Data Type: Pressure, units: Pa\n",
      "        SubChannel: <SubChannel 36.1: 'Pressure/Temperature:Pressure/Temperature:01' at 0x213405eda48>\n",
      "            Data Type: Temperature, units: °C\n"
     ]
    }
   ],
   "source": [
    "print(\"file: {0}\".format(doc.name))\n",
    "for chID in doc.channels:\n",
    "    chObj = doc.channels[chID]\n",
    "    print(\"    Channel: {0}\".format(chObj))\n",
    "    for schId, schObj in enumerate(chObj.subchannels):\n",
    "        print(\"        SubChannel: {0}\".format(schObj))\n",
    "        print(\"            Data Type: {0}, units: {1}\".format(*schObj.units))"
   ]
  },
  {
   "cell_type": "markdown",
   "metadata": {},
   "source": [
    "Channel 8 is the accelerometer data, so we'll start with that.\n",
    "First, we get the EventArray"
   ]
  },
  {
   "cell_type": "code",
   "execution_count": 4,
   "metadata": {
    "pycharm": {
     "name": "#%%\n"
    }
   },
   "outputs": [],
   "source": [
    "ch8EventArray = doc.channels[8].getSession()"
   ]
  },
  {
   "cell_type": "markdown",
   "metadata": {},
   "source": [
    "The EventArray object has several methods to access data, but the simplest is\n",
    "EventArray.arraySlice, which returns a numpy ndarray where the first row is\n",
    "the time in microseconds, and the following rows are the subchannels in order"
   ]
  },
  {
   "cell_type": "code",
   "execution_count": 5,
   "metadata": {
    "pycharm": {
     "name": "#%%\n"
    }
   },
   "outputs": [],
   "source": [
    "ch8Data = ch8EventArray.arraySlice()\n",
    "ch8Time = ch8Data[0, :]/1e6\n",
    "ch8NSubchannels = len(doc.channels[8].subchannels)"
   ]
  },
  {
   "cell_type": "markdown",
   "metadata": {},
   "source": [
    "Now we can plot the data\n",
    "\n",
    "for every subchannel, add a subplot, plot the data, and label the axes with\n",
    "the name of the subchannel and its units"
   ]
  },
  {
   "cell_type": "code",
   "execution_count": 6,
   "metadata": {
    "pycharm": {
     "name": "#%%\n"
    }
   },
   "outputs": [
    {
     "data": {
      "text/plain": "<Figure size 432x288 with 3 Axes>",
      "image/png": "[encoded data removed]"
     },
     "metadata": {
      "needs_background": "light"
     },
     "output_type": "display_data"
    }
   ],
   "source": [
    "fig = plt.figure()\n",
    "fig.suptitle(doc.channels[8].displayName)\n",
    "\n",
    "axes = fig.subplots(ch8NSubchannels, 1,\n",
    "                    sharex='all',\n",
    "                    sharey='all',\n",
    "                    gridspec_kw={\n",
    "                        'hspace': 0.5\n",
    "                        })\n",
    "for i, ax, sch in zip(range(1, ch8NSubchannels + 1), axes, doc.channels[8].subchannels):\n",
    "    ax.plot(ch8Time, ch8Data[i, :])\n",
    "    ax.set_title(sch.displayName)\n",
    "    ax.set_xlabel('Time (s)')\n",
    "    ax.set_ylabel('{0} ({1})'.format(*sch.units))"
   ]
  },
  {
   "cell_type": "markdown",
   "metadata": {
    "pycharm": {
     "name": "#%% md\n"
    }
   },
   "source": [
    "We can repeat the process with channel 36, which has heterogeneous data"
   ]
  },
  {
   "cell_type": "code",
   "execution_count": 7,
   "metadata": {
    "pycharm": {
     "name": "#%%\n"
    }
   },
   "outputs": [
    {
     "data": {
      "text/plain": "<Figure size 432x288 with 2 Axes>",
      "image/png": "[encoded data removed]"
     },
     "metadata": {
      "needs_background": "light"
     },
     "output_type": "display_data"
    }
   ],
   "source": [
    "ch36EventArray = doc.channels[36].getSession()\n",
    "\n",
    "ch36Data = ch36EventArray.arraySlice()\n",
    "ch36Time = ch36Data[0, :]/1e6\n",
    "ch36NSubchannels = len(doc.channels[36].subchannels)\n",
    "\n",
    "\n",
    "fig = plt.figure()\n",
    "fig.suptitle(doc.channels[36].displayName)\n",
    "\n",
    "axes = fig.subplots(ch36NSubchannels, 1,\n",
    "                    sharex='all',\n",
    "                    gridspec_kw={\n",
    "                        'hspace': 0.5\n",
    "                        })\n",
    "for i, ax, sch in zip(range(1, ch36NSubchannels + 1), axes, doc.channels[36].subchannels):\n",
    "    ax.plot(ch36Time, ch36Data[i, :])\n",
    "    ax.set_title(sch.displayName)\n",
    "    ax.set_xlabel('Time (s)')\n",
    "    ax.set_ylabel('{0} ({1})'.format(*sch.units))"
   ]
  }
 ],
 "metadata": {
  "kernelspec": {
   "name": "python3",
   "language": "python",
   "display_name": "Python 3"
  },
  "language_info": {
   "codemirror_mode": {
    "name": "ipython",
    "version": 3
   },
   "file_extension": ".py",
   "mimetype": "text/x-python",
   "name": "python",
   "nbconvert_exporter": "python",
   "pygments_lexer": "ipython3",
   "version": "3.7.6"
  }
 },
 "nbformat": 4,
 "nbformat_minor": 1
}